{
 "cells": [
  {
   "cell_type": "code",
   "execution_count": 3,
   "metadata": {
    "id": "eE429GCFelzb"
   },
   "outputs": [],
   "source": [
    "import pandas as pd\n",
    "import numpy as np\n",
    "from sklearn.model_selection import train_test_split\n",
    "from sklearn.utils import shuffle\n",
    "from sklearn.metrics import classification_report, confusion_matrix\n",
    "from sklearn.ensemble import RandomForestClassifier\n",
    "from sklearn.tree import DecisionTreeClassifier\n",
    "from sklearn.discriminant_analysis import LinearDiscriminantAnalysis\n",
    "from sklearn.svm import SVC\n",
    "from sklearn.model_selection import GridSearchCV\n",
    "import matplotlib.pyplot as plt\n",
    "import pickle\n",
    "import os\n",
    "from sklearn.neighbors import KNeighborsClassifier"
   ]
  },
  {
   "cell_type": "code",
   "execution_count": 4,
   "metadata": {
    "id": "JTtcnic_gd5F"
   },
   "outputs": [],
   "source": [
    "data= pd.read_csv(\"hollink_reproduction.csv\")\n",
    "data = data.drop_duplicates(subset=\"Synset\", keep='first', inplace=False, ignore_index=True)\n",
    "data[\"class\"]=0\n",
    "data.loc[data[\"Labels\"]==\"b\",\"class\"]=1\n",
    "data= data[data[\"Labels\"]!=\"none\"]\n",
    "data= data.dropna()\n",
    "X= data.iloc[:,2:-1]\n",
    "y= data.iloc[:,-1]\n",
    "X_train, X_test, y_train, y_test = train_test_split(X, y, test_size=0.2,random_state=15,shuffle=True)"
   ]
  },
  {
   "cell_type": "code",
   "execution_count": 5,
   "metadata": {},
   "outputs": [],
   "source": [
    "def Classification_Report(confusion_matrix):\n",
    "    test_size = sum(sum(confusion_matrix))\n",
    "    accuracy = (confusion_matrix[0][0]+confusion_matrix[1][1])/test_size\n",
    "    precision = confusion_matrix[1][1]/(confusion_matrix[1][1]+confusion_matrix[0][1])\n",
    "    recall =    confusion_matrix[1][1]/(confusion_matrix[1][1]+confusion_matrix[1][0])\n",
    "    f1_score= 2*(precision*recall)/(precision+recall)   \n",
    "    \n",
    "    return [accuracy, precision,recall,f1_score]"
   ]
  },
  {
   "cell_type": "code",
   "execution_count": 6,
   "metadata": {},
   "outputs": [],
   "source": [
    "\n",
    "N=10\n",
    "score_table = np.zeros(shape=(N,4))\n",
    "confM_table = np.zeros(shape=(N,2,2))\n",
    "cwd= os.getcwd()\n",
    "model_folder= cwd+'/'+'hollink_reproduced_models/'\n"
   ]
  },
  {
   "attachments": {},
   "cell_type": "markdown",
   "metadata": {},
   "source": [
    "# Random Forest"
   ]
  },
  {
   "cell_type": "code",
   "execution_count": 68,
   "metadata": {
    "colab": {
     "base_uri": "https://localhost:8080/"
    },
    "id": "fT2armVTxpPw",
    "outputId": "e8565146-aa73-48cf-b608-759babb8dd00"
   },
   "outputs": [
    {
     "data": {
      "text/plain": [
       "'\\ngrid_param = {\\n     \\'max_depth\\': [3,5,10,15,20,30],\\n    \\'criterion\\': [\\'gini\\', \\'entropy\\'],\\n    \\'bootstrap\\': [True, False]\\n}\\n\\nfor ind in range(N):\\n    \\n\\n    rforestClassifier= RandomForestClassifier()\\n    gd_sr = GridSearchCV(estimator=rforestClassifier,\\n                         param_grid=grid_param,\\n                         scoring=\\'accuracy\\',\\n                         cv=10,\\n                         n_jobs=-1)\\n\\n    gd_sr.fit(X_train, y_train)\\n    best_parameters = gd_sr.best_params_\\n    testforestClassifier= RandomForestClassifier(max_depth=best_parameters[\"max_depth\"], criterion=best_parameters[\"criterion\"], bootstrap= best_parameters[\"bootstrap\"])\\n    testforestClassifier.fit(X_train, y_train)\\n    #########################################################################\\n    # Save model here\\n    filename= model_folder+\\'rf_\\'+ str(ind+1)+\\'.pickle\\'\\n    pickle.dump(testforestClassifier, open(filename, \"wb\"))\\n    #########################################################################    \\n    y_predict= testforestClassifier.predict(X_test)\\n    confM=confusion_matrix(y_test, y_predict)\\n    aprf=Classification_Report(confM)\\n    confM_table[ind,:,:]=confM\\n    score_table[ind,:]=aprf\\n'"
      ]
     },
     "execution_count": 68,
     "metadata": {},
     "output_type": "execute_result"
    }
   ],
   "source": [
    "\n",
    "grid_param = {\n",
    "     'max_depth': [3,5,10,15,20,30],\n",
    "    'criterion': ['gini', 'entropy'],\n",
    "    'bootstrap': [True, False]\n",
    "}\n",
    "\n",
    "for ind in range(N):\n",
    "    \n",
    "\n",
    "    rforestClassifier= RandomForestClassifier()\n",
    "    gd_sr = GridSearchCV(estimator=rforestClassifier,\n",
    "                         param_grid=grid_param,\n",
    "                         scoring='accuracy',\n",
    "                         cv=10,\n",
    "                         n_jobs=-1)\n",
    "\n",
    "    gd_sr.fit(X_train, y_train)\n",
    "    best_parameters = gd_sr.best_params_\n",
    "    testforestClassifier= RandomForestClassifier(max_depth=best_parameters[\"max_depth\"], criterion=best_parameters[\"criterion\"], bootstrap= best_parameters[\"bootstrap\"])\n",
    "    testforestClassifier.fit(X_train, y_train)\n",
    "    #########################################################################\n",
    "    # Save model here\n",
    "    filename= model_folder+'rf_'+ str(ind+1)+'.pickle'\n",
    "    pickle.dump(testforestClassifier, open(filename, \"wb\"))\n",
    "    #########################################################################    \n",
    "    y_predict= testforestClassifier.predict(X_test)\n",
    "    confM=confusion_matrix(y_test, y_predict)\n",
    "    aprf=Classification_Report(confM)\n",
    "    confM_table[ind,:,:]=confM\n",
    "    score_table[ind,:]=aprf\n",
    "\n",
    "    "
   ]
  },
  {
   "attachments": {},
   "cell_type": "markdown",
   "metadata": {},
   "source": [
    "# Decision Tree Classifier"
   ]
  },
  {
   "cell_type": "code",
   "execution_count": 69,
   "metadata": {},
   "outputs": [
    {
     "data": {
      "text/plain": [
       "'\\ngrid_param = {\\n     \\'max_depth\\': [3,5,10,15,20,30],\\n    \\'criterion\\': [\\'gini\\', \\'entropy\\']\\n}\\ndTreeClassifier = DecisionTreeClassifier()\\n\\nfor ind in range(N):\\n        gd_sr = GridSearchCV(estimator=dTreeClassifier,\\n                             param_grid=grid_param,\\n                             scoring=\\'accuracy\\',\\n                             cv=10,\\n                             n_jobs=-1)\\n\\n        gd_sr.fit(X_train, y_train)\\n        best_parameters = gd_sr.best_params_\\n        testTreeClassifier= DecisionTreeClassifier(max_depth=best_parameters[\"max_depth\"], criterion=best_parameters[\"criterion\"])\\n        testTreeClassifier.fit(X_train, y_train)\\n      \\n        #########################################################################\\n        # Save model here\\n        filename= model_folder+\\'dt_\\'+ str(ind+1)+\\'.pickle\\'\\n        pickle.dump(testTreeClassifier, open(filename, \"wb\"))\\n        #########################################################################    \\n        y_predict= testTreeClassifier.predict(X_test)\\n        confM=confusion_matrix(y_test, y_predict)\\n        aprf=Classification_Report(confM)\\n        confM_table[ind,:,:]=confM\\n        score_table[ind,:]=aprf\\n'"
      ]
     },
     "execution_count": 69,
     "metadata": {},
     "output_type": "execute_result"
    }
   ],
   "source": [
    "\n",
    "grid_param = {\n",
    "     'max_depth': [3,5,10,15,20,30],\n",
    "    'criterion': ['gini', 'entropy']\n",
    "}\n",
    "dTreeClassifier = DecisionTreeClassifier()\n",
    "\n",
    "for ind in range(N):\n",
    "        gd_sr = GridSearchCV(estimator=dTreeClassifier,\n",
    "                             param_grid=grid_param,\n",
    "                             scoring='accuracy',\n",
    "                             cv=10,\n",
    "                             n_jobs=-1)\n",
    "\n",
    "        gd_sr.fit(X_train, y_train)\n",
    "        best_parameters = gd_sr.best_params_\n",
    "        testTreeClassifier= DecisionTreeClassifier(max_depth=best_parameters[\"max_depth\"], criterion=best_parameters[\"criterion\"])\n",
    "        testTreeClassifier.fit(X_train, y_train)\n",
    "      \n",
    "        #########################################################################\n",
    "        # Save model here\n",
    "        filename= model_folder+'dt_'+ str(ind+1)+'.pickle'\n",
    "        pickle.dump(testTreeClassifier, open(filename, \"wb\"))\n",
    "        #########################################################################    \n",
    "        y_predict= testTreeClassifier.predict(X_test)\n",
    "        confM=confusion_matrix(y_test, y_predict)\n",
    "        aprf=Classification_Report(confM)\n",
    "        confM_table[ind,:,:]=confM\n",
    "        score_table[ind,:]=aprf\n"
   ]
  },
  {
   "attachments": {},
   "cell_type": "markdown",
   "metadata": {},
   "source": [
    "# SVM"
   ]
  },
  {
   "cell_type": "code",
   "execution_count": 80,
   "metadata": {},
   "outputs": [],
   "source": [
    "\n",
    "\n",
    "svmClassifier = SVC()\n",
    "grid_param = {\n",
    "     \"C\": [0.1,1,10],\n",
    "    'kernel': ['linear',\"poly\",\"rbf\",\"sigmoid\"]\n",
    "}\n",
    "\n",
    "\n",
    "for ind in range(10):\n",
    "\n",
    "            gd_sr = GridSearchCV(estimator=svmClassifier,\n",
    "                                 param_grid=grid_param,\n",
    "                                 scoring='accuracy',\n",
    "                                 cv=10,\n",
    "                                 n_jobs=-1)\n",
    "            gd_sr.fit(X_train, y_train)\n",
    "            best_parameters = gd_sr.best_params_\n",
    "            testSVMClassifier= SVC(C=best_parameters[\"C\"], kernel=best_parameters[\"kernel\"])\n",
    "            testSVMClassifier.fit(X_train, y_train)\n",
    "            #########################################################################\n",
    "            # Save model here\n",
    "            filename= model_folder+'svm_'+ str(ind+1)+'.pickle'\n",
    "            pickle.dump(testSVMClassifier, open(filename, \"wb\"))\n",
    "            #########################################################################    \n",
    "            y_predict= testSVMClassifier.predict(X_test)\n",
    "            confM=confusion_matrix(y_test, y_predict)\n",
    "            aprf=Classification_Report(confM)\n",
    "            confM_table[ind,:,:]=confM\n",
    "            score_table[ind,:]=aprf\n"
   ]
  },
  {
   "attachments": {},
   "cell_type": "markdown",
   "metadata": {},
   "source": [
    "# LDA"
   ]
  },
  {
   "cell_type": "code",
   "execution_count": null,
   "metadata": {},
   "outputs": [],
   "source": [
    "\n",
    "\n",
    "ldaClassifier = LinearDiscriminantAnalysis()\n",
    "grid_param = {\n",
    "     \"solver\": [\"svd\", \"lsqr\", \"eigen\"]\n",
    "}\n",
    "\n",
    "for ind in range(N):\n",
    "\n",
    "            gd_sr = GridSearchCV(estimator=ldaClassifier,\n",
    "                                 param_grid=grid_param,\n",
    "                                 scoring='accuracy',\n",
    "                                 cv=10,\n",
    "                                 n_jobs=-1)\n",
    "            gd_sr.fit(X_train, y_train)\n",
    "            best_parameters = gd_sr.best_params_\n",
    "            testLDAClassifier= LinearDiscriminantAnalysis(solver=best_parameters[\"solver\"])\n",
    "            testLDAClassifier.fit(X_train, y_train)\n",
    "            #########################################################################\n",
    "            # Save model here\n",
    "            filename= model_folder+'lda_'+ str(ind+1)+'.pickle'\n",
    "            pickle.dump(testLDAClassifier, open(filename, \"wb\"))\n",
    "            #########################################################################    \n",
    "            y_predict= testLDAClassifier.predict(X_test)\n",
    "            confM=confusion_matrix(y_test, y_predict)\n",
    "            aprf=Classification_Report(confM)\n",
    "            confM_table[ind,:,:]=confM\n",
    "            score_table[ind,:]=aprf\n"
   ]
  },
  {
   "attachments": {},
   "cell_type": "markdown",
   "metadata": {},
   "source": [
    "## KNN"
   ]
  },
  {
   "cell_type": "code",
   "execution_count": 7,
   "metadata": {},
   "outputs": [],
   "source": [
    "\n",
    "\n",
    "knn = KNeighborsClassifier()\n",
    "grid_param = {\n",
    "    'n_neighbors': [3, 5, 7,11],  # Different values of K (number of neighbors)\n",
    "    'weights': ['uniform', 'distance'],  # Weighting schemes for neighbors\n",
    "}\n",
    "\n",
    "\n",
    "for ind in range(N):\n",
    "\n",
    "            gd_sr = GridSearchCV(estimator=knn,\n",
    "                                 param_grid=grid_param,\n",
    "                                 scoring='accuracy',\n",
    "                                 cv=10,\n",
    "                                 n_jobs=-1)\n",
    "            gd_sr.fit(X_train, y_train)\n",
    "            best_parameters = gd_sr.best_params_\n",
    "            testKNNClassifier= KNeighborsClassifier(n_neighbors=best_parameters[\"n_neighbors\"], weights=best_parameters[\"weights\"])\n",
    "            testKNNClassifier.fit(X_train, y_train)\n",
    "            #########################################################################\n",
    "            # Save model here\n",
    "            filename= model_folder+'knn_'+ str(ind+1)+'.pickle'\n",
    "            pickle.dump(testKNNClassifier, open(filename, \"wb\"))\n",
    "            #########################################################################    \n",
    "            y_predict= testKNNClassifier.predict(X_test)\n",
    "            confM=confusion_matrix(y_test, y_predict)\n",
    "            aprf=Classification_Report(confM)\n",
    "            confM_table[ind,:,:]=confM\n",
    "            score_table[ind,:]=aprf\n"
   ]
  }
 ],
 "metadata": {
  "colab": {
   "collapsed_sections": [],
   "provenance": []
  },
  "kernelspec": {
   "display_name": "Python 3",
   "language": "python",
   "name": "python3"
  },
  "language_info": {
   "codemirror_mode": {
    "name": "ipython",
    "version": 3
   },
   "file_extension": ".py",
   "mimetype": "text/x-python",
   "name": "python",
   "nbconvert_exporter": "python",
   "pygments_lexer": "ipython3",
   "version": "3.8.0"
  },
  "vscode": {
   "interpreter": {
    "hash": "0b66db106c48681de55da5fbed252073da11a1876af7d1ec75c3fbf1c7d64cb7"
   }
  }
 },
 "nbformat": 4,
 "nbformat_minor": 1
}
